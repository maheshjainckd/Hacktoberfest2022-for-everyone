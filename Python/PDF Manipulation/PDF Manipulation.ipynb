{
 "cells": [
  {
   "cell_type": "markdown",
   "metadata": {},
   "source": [
    "# PDF MANIPULATION"
   ]
  },
  {
   "cell_type": "markdown",
   "metadata": {},
   "source": [
    "## EXTRACTING INFORMATION"
   ]
  },
  {
   "cell_type": "code",
   "execution_count": 1,
   "metadata": {},
   "outputs": [],
   "source": [
    "from PyPDF2 import PdfFileReader, PdfFileWriter"
   ]
  },
  {
   "cell_type": "code",
   "execution_count": 2,
   "metadata": {},
   "outputs": [],
   "source": [
    "f = open('Lorem Ipsum.pdf', 'rb')"
   ]
  },
  {
   "cell_type": "code",
   "execution_count": 3,
   "metadata": {},
   "outputs": [],
   "source": [
    "read = PdfFileReader(f)"
   ]
  },
  {
   "cell_type": "code",
   "execution_count": 4,
   "metadata": {},
   "outputs": [
    {
     "data": {
      "text/plain": [
       "{'/Author': 'Snehal Bera',\n",
       " '/Creator': 'Microsoft® Word 2016',\n",
       " '/CreationDate': \"D:20200427125615+05'30'\",\n",
       " '/ModDate': \"D:20200427125615+05'30'\",\n",
       " '/Producer': 'Microsoft® Word 2016'}"
      ]
     },
     "execution_count": 4,
     "metadata": {},
     "output_type": "execute_result"
    }
   ],
   "source": [
    "read.getDocumentInfo()"
   ]
  },
  {
   "cell_type": "code",
   "execution_count": 28,
   "metadata": {},
   "outputs": [
    {
     "data": {
      "text/plain": [
       "2"
      ]
     },
     "execution_count": 28,
     "metadata": {},
     "output_type": "execute_result"
    }
   ],
   "source": [
    "read.numPages"
   ]
  },
  {
   "cell_type": "code",
   "execution_count": 33,
   "metadata": {},
   "outputs": [],
   "source": [
    "page = read.getPage(0)"
   ]
  },
  {
   "cell_type": "code",
   "execution_count": 35,
   "metadata": {},
   "outputs": [
    {
     "data": {
      "text/plain": [
       "' \\n \\n \\n \\n \\n\\n \\n\"\\nNeque porro quisquam est qui dolorem ipsum quia dolor sit amet, consectetur, adipisci velit...\"\\n \\n\"There is no one who loves pain itself, who seeks after it and wants to have it, simply because it is pain...\"\\n \\n'"
      ]
     },
     "execution_count": 35,
     "metadata": {},
     "output_type": "execute_result"
    }
   ],
   "source": [
    "page.extractText()"
   ]
  },
  {
   "cell_type": "markdown",
   "metadata": {},
   "source": [
    "## COPY AND CREATE A NEW PDF"
   ]
  },
  {
   "cell_type": "code",
   "execution_count": 38,
   "metadata": {},
   "outputs": [],
   "source": [
    "write = PdfFileWriter()\n",
    "write.addPage(page)"
   ]
  },
  {
   "cell_type": "code",
   "execution_count": 39,
   "metadata": {},
   "outputs": [],
   "source": [
    "output = open('Modified Lorem Ipsum.pdf', 'wb')\n",
    "write.write(output)\n",
    "\n",
    "output.close()\n",
    "f.close()"
   ]
  },
  {
   "cell_type": "markdown",
   "metadata": {},
   "source": [
    "## ROTATING A PDF"
   ]
  },
  {
   "cell_type": "code",
   "execution_count": 41,
   "metadata": {},
   "outputs": [],
   "source": [
    "f = open('Lorem Ipsum.pdf', 'rb')\n",
    "read = PdfFileReader(f)\n",
    "rotate_page = read.getPage(0).rotateClockwise(90)"
   ]
  },
  {
   "cell_type": "code",
   "execution_count": 42,
   "metadata": {},
   "outputs": [],
   "source": [
    "write = PdfFileWriter()\n",
    "write.addPage(rotate_page)"
   ]
  },
  {
   "cell_type": "code",
   "execution_count": 43,
   "metadata": {},
   "outputs": [],
   "source": [
    "output = open('Rotated Lorem Ipsum.pdf', 'wb')\n",
    "write.write(output)\n",
    "\n",
    "output.close()\n",
    "f.close()"
   ]
  },
  {
   "cell_type": "markdown",
   "metadata": {},
   "source": [
    "## READING MULTIPLE PAGES"
   ]
  },
  {
   "cell_type": "code",
   "execution_count": 44,
   "metadata": {},
   "outputs": [],
   "source": [
    "f = open('Lorem Ipsum.pdf', 'rb')\n",
    "read = PdfFileReader(f)"
   ]
  },
  {
   "cell_type": "code",
   "execution_count": 45,
   "metadata": {},
   "outputs": [
    {
     "data": {
      "text/plain": [
       "2"
      ]
     },
     "execution_count": 45,
     "metadata": {},
     "output_type": "execute_result"
    }
   ],
   "source": [
    "num = read.numPages\n",
    "num"
   ]
  },
  {
   "cell_type": "code",
   "execution_count": 46,
   "metadata": {},
   "outputs": [],
   "source": [
    "pdf = []\n",
    "\n",
    "for page in range(num):\n",
    "    pages = read.getPage(page).extractText()\n",
    "    pdf.append(pages)"
   ]
  },
  {
   "cell_type": "code",
   "execution_count": 48,
   "metadata": {},
   "outputs": [
    {
     "data": {
      "text/plain": [
       "[' \\n \\n \\n \\n \\n\\n \\n\"\\nNeque porro quisquam est qui dolorem ipsum quia dolor sit amet, consectetur, adipisci velit...\"\\n \\n\"There is no one who loves pain itself, who seeks after it and wants to have it, simply because it is pain...\"\\n \\n',\n",
       " 'Lorem ipsum dolor sit \\namet, consectetur adipiscing elit. Aliquam nec dolor in elit rhoncus maximus at \\nat nibh. Mauris scelerisque, erat volutpat rhoncus hendrerit, tortor nibh pulvinar justo, ut interdum \\norci dui non ante. Donec euismod sed ligula a cursus. Ut varius tincidunt \\nvarius. Praesent dignissim a \\nmetus sed efficitur. Sed consequat vitae libero eu placerat. Phasellus efficitur eget est et sodales. \\nNunc et tincidunt nibh. Curabitur condimentum rhoncus ligula congue ultrices. Praesent accumsan \\npurus in tellus porta mattis.\\n \\nNulla vel iaculis velit. Cras fringilla rhoncus massa, at pulvinar diam auctor \\nac. Cras id justo tortor. Orci varius natoque penatibus et magnis dis parturient montes, nascetur \\nridiculus mus. Integer placerat arcu et viverra sagittis.\\n \\nNulla facilisi. Duis\\n \\nultrices tincidunt varius. Vivamus vel risus laoreet, lobortis neque in, ultricies dolor. \\nVestibulum ante ipsum primis in faucibus orci luctus et ultrices posuere cubilia curae; Nullam sagittis \\nvel nisl vitae posuere. Vestibulum porttitor, ante eu suscipi\\nt rhoncus, lacus nisi malesuada nulla, ut \\nconsequat eros turpis nec tortor. Cras ullamcorper odio vel tortor mollis, a posuere nulla vestibulum. \\nFusce euismod pellentesque imperdiet. Maecenas ullamcorper a massa sit amet accumsan. Praesent \\nnec ullamcorper \\naugue. Aliquam ac lobortis justo. Curabitur et euismod lorem, id laoreet enim. Donec \\nfinibus augue risus, quis finibus diam euismod tempor. Phasellus suscipit pellentesque ante id gravida.\\n \\nCras eget augue ut orci venenatis scelerisque. Nam sodales malesuad\\na malesuada. Duis maximus ex id \\ncondimentum venenatis. Duis gravida, erat ut fringilla luctus, arcu neque mattis lectus, eget ornare orci \\norci rutrum diam. Vestibulum id lacus vehicula massa feugiat aliquet non vitae magna. Vivamus leo est, \\nfeugiat in orci\\n \\neu, ultrices mattis nisi. Ut rhoncus purus non porttitor imperdiet. Pellentesque habitant \\nmorbi tristique senectus et netus et malesuada fames ac turpis egestas. Donec vitae orci elit. Donec \\nfeugiat sapien vitae augue pretium tempor.\\n \\nMorbi non risus vesti\\nbulum, laoreet justo dignissim, venenatis libero. Suspendisse id consequat lacus, \\nut elementum neque. Duis sodales vestibulum risus, at porta odio vestibulum eget. Aliquam erat \\nvolutpat. Orci varius natoque penatibus et magnis dis parturient montes, nascet\\nur ridiculus mus. Mauris \\net orci id purus suscipit consectetur vitae in neque. Nam elementum purus ac libero tincidunt, eget \\nfringilla justo pharetra. Aliquam feugiat, diam sed rutrum suscipit, lacus tortor dapibus velit, ac \\naccumsan est ligula vel dolor. \\nQuisque a quam mi. Phasellus vitae iaculis nunc. Etiam suscipit arcu ac \\nipsum lobortis, eget hendrerit lacus sodales. Duis volutpat ex quis lacus eleifend, quis bibendum mauris \\nfringilla.\\n \\nPraesent semper nisi quis quam aliquet maximus. Nulla vitae ligula q\\nuis dolor maximus bibendum at \\nsed tellus. Sed at mi in nulla porta tristique ac eget purus. Nunc id dolor in lectus tincidunt fringilla at \\nconsequat metus. Maecenas et lectus felis. Maecenas tempor interdum turpis. Morbi tempus sed ligula \\na condimentum. Do\\nnec elementum diam vitae dui mattis, nec suscipit leo tincidunt. In sollicitudin \\nsagittis quam efficitur venenatis. Sed cursus ultrices dignissim. Nam non dignissim sapien. Curabitur sed \\ntortor nec sapien feugiat suscipit. Nunc fringilla, ligula at gravida\\n \\ntincidunt, sapien nulla gravida augue, \\nquis rhoncus turpis dolor in diam.\\n \\n']"
      ]
     },
     "execution_count": 48,
     "metadata": {},
     "output_type": "execute_result"
    }
   ],
   "source": [
    "pdf"
   ]
  },
  {
   "cell_type": "code",
   "execution_count": 49,
   "metadata": {},
   "outputs": [
    {
     "data": {
      "text/plain": [
       "2"
      ]
     },
     "execution_count": 49,
     "metadata": {},
     "output_type": "execute_result"
    }
   ],
   "source": [
    "len(pdf)"
   ]
  },
  {
   "cell_type": "code",
   "execution_count": 50,
   "metadata": {},
   "outputs": [],
   "source": [
    "f.close()"
   ]
  },
  {
   "cell_type": "markdown",
   "metadata": {},
   "source": [
    "## MERGING PDF's"
   ]
  },
  {
   "cell_type": "code",
   "execution_count": 38,
   "metadata": {},
   "outputs": [],
   "source": [
    "f = open('Watermark.pdf', 'rb')\n",
    "read = PdfFileReader(f)\n",
    "watermark = read.getPage(0)"
   ]
  },
  {
   "cell_type": "code",
   "execution_count": 39,
   "metadata": {},
   "outputs": [],
   "source": [
    "f = open('Lorem Ipsum.pdf', 'rb')\n",
    "read = PdfFileReader(f)"
   ]
  },
  {
   "cell_type": "code",
   "execution_count": 40,
   "metadata": {},
   "outputs": [
    {
     "data": {
      "text/plain": [
       "2"
      ]
     },
     "execution_count": 40,
     "metadata": {},
     "output_type": "execute_result"
    }
   ],
   "source": [
    "num = read.getNumPages()\n",
    "num"
   ]
  },
  {
   "cell_type": "code",
   "execution_count": 41,
   "metadata": {},
   "outputs": [],
   "source": [
    "write = PdfFileWriter()\n",
    "\n",
    "for page in range(num):\n",
    "    pages = read.getPage(page)\n",
    "    pages.mergePage(watermark)\n",
    "    write.addPage(pages)"
   ]
  },
  {
   "cell_type": "code",
   "execution_count": 42,
   "metadata": {},
   "outputs": [],
   "source": [
    "pdf = open('Watermarked Lorem Ipsum.pdf', 'wb')\n",
    "write.write(pdf)"
   ]
  },
  {
   "cell_type": "code",
   "execution_count": 43,
   "metadata": {},
   "outputs": [],
   "source": [
    "pdf.close()\n",
    "f.close()"
   ]
  },
  {
   "cell_type": "code",
   "execution_count": null,
   "metadata": {},
   "outputs": [],
   "source": []
  }
 ],
 "metadata": {
  "kernelspec": {
   "display_name": "Python 3",
   "language": "python",
   "name": "python3"
  },
  "language_info": {
   "codemirror_mode": {
    "name": "ipython",
    "version": 3
   },
   "file_extension": ".py",
   "mimetype": "text/x-python",
   "name": "python",
   "nbconvert_exporter": "python",
   "pygments_lexer": "ipython3",
   "version": "3.8.8"
  }
 },
 "nbformat": 4,
 "nbformat_minor": 2
}
