{
  "nbformat": 4,
  "nbformat_minor": 0,
  "metadata": {
    "colab": {
      "provenance": []
    },
    "kernelspec": {
      "name": "python3",
      "display_name": "Python 3"
    },
    "language_info": {
      "name": "python"
    }
  },
  "cells": [
    {
      "cell_type": "markdown",
      "source": [
        "***Machine Learning Exp. 3 / 18th Aug 2022***\n"
      ],
      "metadata": {
        "id": "YKozhVMQYru9"
      }
    },
    {
      "cell_type": "markdown",
      "source": [
        "Decision Tree Based Id3 Algorithm: Write a program to demonstrate the working of the decision tree based ID3 algorithm. Use an appropriate dataset for building the decision tree and apply this knowledge to classify a new sample."
      ],
      "metadata": {
        "id": "BTEoE9U2YriU"
      }
    },
    {
      "cell_type": "code",
      "execution_count": null,
      "metadata": {
        "colab": {
          "base_uri": "https://localhost:8080/"
        },
        "id": "RQUsReV5Youq",
        "outputId": "7feb52c7-15ef-4ab5-e884-7d9687572c34"
      },
      "outputs": [
        {
          "output_type": "stream",
          "name": "stdout",
          "text": [
            "Drive already mounted at /content/drive; to attempt to forcibly remount, call drive.mount(\"/content/drive\", force_remount=True).\n"
          ]
        }
      ],
      "source": [
        "from google.colab import drive\n",
        "drive.mount('/content/drive')"
      ]
    },
    {
      "cell_type": "code",
      "source": [
        "import math\n",
        "import csv\n",
        "\n",
        "path = \"/content/drive/MyDrive/id3.csv\"\n",
        "path_test = \"/content/drive/MyDrive/id3_test.csv\""
      ],
      "metadata": {
        "id": "BI4Ahkd_ZF-n"
      },
      "execution_count": null,
      "outputs": []
    },
    {
      "cell_type": "code",
      "source": [
        "def load_csv(filename):\n",
        "  lines = csv.reader(open(filename,\"r\"));\n",
        "  dataset = list(lines)\n",
        "  headers = dataset.pop(0)\n",
        "  return dataset,headers"
      ],
      "metadata": {
        "id": "ZanWe4kWZWOv"
      },
      "execution_count": null,
      "outputs": []
    },
    {
      "cell_type": "code",
      "source": [
        "class Node:\n",
        "  def __init__(self,attribute):\n",
        "    self.attribute = attribute\n",
        "    self.children=[]\n",
        "    self.answer=\"\""
      ],
      "metadata": {
        "id": "x6sR_LbkZW84"
      },
      "execution_count": null,
      "outputs": []
    },
    {
      "cell_type": "code",
      "source": [
        "def subtables(data,col,delete):\n",
        "  dic={}\n",
        "  coldata = [row[col] for row in data]\n",
        "  attr = list(set(coldata))\n",
        "  counts = [0] * len(attr)\n",
        "  r = len(data)\n",
        "  c = len(data[0])\n",
        "  \n",
        "  for x in range(len(attr)):\n",
        "    for y in range(r):\n",
        "      if data[y][col] == attr[x]:\n",
        "        counts[x]+=1\n",
        "  \n",
        "  for x in range(len(attr)):\n",
        "    dic[attr[x]] = [[0 for i in range(c)] for j in range(counts[x])]\n",
        "    pos = 0\n",
        "    for y in range(r):\n",
        "      if data[y][col]==attr[x]:\n",
        "        if delete:\n",
        "          del data[y][col]\n",
        "        dic[attr[x]][pos]=data[y]\n",
        "        pos+=1\n",
        "  return attr,dic"
      ],
      "metadata": {
        "id": "ydD4sSBeZdb5"
      },
      "execution_count": null,
      "outputs": []
    },
    {
      "cell_type": "code",
      "source": [
        "def entropy(S):\n",
        "  attr=list(set(S))\n",
        "  if len(attr)==1:\n",
        "    return 0\n",
        "  \n",
        "  counts=[0,0]\n",
        "  for i in range(2):\n",
        "    counts[i] = sum([1 for x in S if attr[i]==x]) / (len(S) * 1.0 )\n",
        "  \n",
        "  sums = 0\n",
        "  for cnt in counts:\n",
        "    sums += -1 * cnt * math.log(cnt,2)\n",
        "  \n",
        "  return sums"
      ],
      "metadata": {
        "id": "sNWUmQSXZubG"
      },
      "execution_count": null,
      "outputs": []
    },
    {
      "cell_type": "code",
      "source": [
        "def compute_gain(data,col):\n",
        "  attr, dic = subtables(data, col, delete=False)\n",
        "  \n",
        "  total_size = len(data)\n",
        "  entropies = [0] * len(attr)\n",
        "  ratio = [0] * len(attr)\n",
        "  \n",
        "  total_entropy = entropy([row[-1] for row in data])\n",
        "  for x in range(len(attr)):\n",
        "    ratio[x] = len(dic[attr[x]])/(total_size*1.0)\n",
        "    entropies[x] = entropy([row[-1] for row in dic[attr[x]]])\n",
        "    total_entropy -= ratio[x] * entropies[x]\n",
        "  \n",
        "  return total_entropy"
      ],
      "metadata": {
        "id": "VzK-wxd2aSNg"
      },
      "execution_count": null,
      "outputs": []
    },
    {
      "cell_type": "code",
      "source": [
        "def build_tree(data,features):\n",
        "  lastcol = [row[-1] for row in data]\n",
        "  if(len(set(lastcol))) == 1:\n",
        "    node=Node(\"\")\n",
        "    node.answer = lastcol[0]\n",
        "    return node\n",
        "  \n",
        "  n = len(data[0]) - 1\n",
        "  gains=[0] * n\n",
        "  for col in range(n):\n",
        "    gains[col]=compute_gain(data,col)\n",
        "  split = gains.index(max(gains))\n",
        "  node=Node(features[split])\n",
        "  fea = features[:split] + features[split+1:]\n",
        "  \n",
        "  attr, dic = subtables(data,split,delete=True)\n",
        "  for x in range(len(attr)):\n",
        "    child=build_tree(dic[attr[x]],fea)\n",
        "    node.children.append((attr[x], child))\n",
        "  \n",
        "  return node"
      ],
      "metadata": {
        "id": "TCqjtV8zaett"
      },
      "execution_count": null,
      "outputs": []
    },
    {
      "cell_type": "code",
      "source": [
        "def print_tree(node, level):\n",
        "  if node.answer!=\"\":\n",
        "    print(\" \"*level, node.answer)\n",
        "    return\n",
        "  print(\" \"*level, node.attribute)\n",
        "  for value,n in node.children:\n",
        "    print(\" \"*(level+1), value)\n",
        "    print_tree(n, level+2)"
      ],
      "metadata": {
        "id": "LruoF3qZan7-"
      },
      "execution_count": null,
      "outputs": []
    },
    {
      "cell_type": "code",
      "source": [
        "def classify(node, x_test, features):\n",
        "  if node.answer !=\"\":\n",
        "    print(node.answer)\n",
        "    return\n",
        "  pos=features.index(node.attribute)\n",
        "  for value, n in node.children:\n",
        "    if x_test[pos] == value:\n",
        "      classify(n,x_test,features)"
      ],
      "metadata": {
        "id": "rRTQK4-kas30"
      },
      "execution_count": null,
      "outputs": []
    },
    {
      "cell_type": "code",
      "source": [
        "#Main Program\n",
        "dataset,features=load_csv(path)\n",
        "node1 = build_tree(dataset,features)\n",
        "\n",
        "print(\"The decision tree for the dataset using ID3 algorithm is \")\n",
        "print_tree(node1, 0)\n",
        "testdata, features = load_csv(path_test)\n",
        "for xtest in testdata:\n",
        "  print(\"The test instance: \", xtest)\n",
        "  print(\"The label for test instance: \", end=\" \")\n",
        "  classify(node1,xtest,features)"
      ],
      "metadata": {
        "colab": {
          "base_uri": "https://localhost:8080/"
        },
        "id": "_EElK2XZayun",
        "outputId": "ca795224-c790-48ce-f889-7d0d870f9f18"
      },
      "execution_count": null,
      "outputs": [
        {
          "output_type": "stream",
          "name": "stdout",
          "text": [
            "The decision tree for the dataset using ID3 algorithm is \n",
            " Outlook\n",
            "  sunny\n",
            "   Humidity\n",
            "    normal\n",
            "     yes\n",
            "    high\n",
            "     no\n",
            "  rain\n",
            "   Wind\n",
            "    weak\n",
            "     yes\n",
            "    strong\n",
            "     no\n",
            "  overcast\n",
            "   yes\n",
            "The test instance:  ['rain', 'cool', 'normal', 'strong']\n",
            "The label for test instance:  no\n",
            "The test instance:  ['sunny', 'mild', 'normal', 'strong']\n",
            "The label for test instance:  yes\n"
          ]
        }
      ]
    }
  ]
}