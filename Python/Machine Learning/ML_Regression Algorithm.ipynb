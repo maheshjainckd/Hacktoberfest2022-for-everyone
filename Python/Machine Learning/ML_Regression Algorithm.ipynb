{
  "nbformat": 4,
  "nbformat_minor": 0,
  "metadata": {
    "colab": {
      "provenance": []
    },
    "kernelspec": {
      "name": "python3",
      "display_name": "Python 3"
    },
    "language_info": {
      "name": "python"
    }
  },
  "cells": [
    {
      "cell_type": "markdown",
      "source": [
        "***Machine Learning Exp. 4 / 8th Sep 2022***\n"
      ],
      "metadata": {
        "id": "FOS4XoStcjXM"
      }
    },
    {
      "cell_type": "markdown",
      "source": [
        "Regression Algorithm: Implement the non-parametric locally weighted regression algorithm in order to fit data points. Select appropriate data set for your experiment and draw graphs."
      ],
      "metadata": {
        "id": "sUpvZ-ZFcmKV"
      }
    },
    {
      "cell_type": "code",
      "execution_count": null,
      "metadata": {
        "colab": {
          "base_uri": "https://localhost:8080/"
        },
        "id": "2fx-lrbecVyX",
        "outputId": "48d859bc-c395-45e1-a0c9-4e5a4e655612"
      },
      "outputs": [
        {
          "output_type": "stream",
          "name": "stdout",
          "text": [
            "Drive already mounted at /content/drive; to attempt to forcibly remount, call drive.mount(\"/content/drive\", force_remount=True).\n"
          ]
        }
      ],
      "source": [
        "from google.colab import drive\n",
        "drive.mount('/content/drive')"
      ]
    },
    {
      "cell_type": "code",
      "source": [
        "import matplotlib.pyplot as plt\n",
        "import pandas as pd\n",
        "import numpy as np\n",
        "\n",
        "path = \"/content/drive/MyDrive/regression_algo.csv\""
      ],
      "metadata": {
        "id": "DNl2XP65ctD9"
      },
      "execution_count": null,
      "outputs": []
    },
    {
      "cell_type": "code",
      "source": [
        "def kernel(point,xmat, k):\n",
        "  m,n= np.shape(xmat)\n",
        "  weights = np.mat(np.eye((m)))\n",
        "  for j in range(m):\n",
        "    diff = point - X[j]\n",
        "    weights[j,j] = np.exp(diff*diff.T/(-2.0*k**2))\n",
        "  return weights"
      ],
      "metadata": {
        "id": "Fy0SfZCteAb_"
      },
      "execution_count": null,
      "outputs": []
    },
    {
      "cell_type": "code",
      "source": [
        "def localWeight(point,xmat,ymat,k):\n",
        "  wei = kernel(point,xmat,k)\n",
        "  W = (X.T*(wei*X)).I*(X.T*(wei*ymat.T))\n",
        "  return W"
      ],
      "metadata": {
        "id": "8fC4iP9IeFPN"
      },
      "execution_count": null,
      "outputs": []
    },
    {
      "cell_type": "code",
      "source": [
        "def localWeightRegression(xmat,ymat,k):\n",
        "  m,n = np.shape(xmat)\n",
        "  ypred = np.zeros(m)\n",
        "  for i in range(m):\n",
        "    ypred[i] = xmat[i]*localWeight(xmat[i],xmat,ymat,k)\n",
        "  return ypred"
      ],
      "metadata": {
        "id": "Ia--On5keKI9"
      },
      "execution_count": null,
      "outputs": []
    },
    {
      "cell_type": "code",
      "source": [
        "data = pd.read_csv(path)\n",
        "bill = np.array(data.total_bill)\n",
        "tip = np.array(data.tip)"
      ],
      "metadata": {
        "id": "kFSOUvApeM0s"
      },
      "execution_count": null,
      "outputs": []
    },
    {
      "cell_type": "code",
      "source": [
        "mbill = np.mat(bill)\n",
        "mtip = np.mat(tip)\n",
        "m= np.shape(mbill)[1]\n",
        "one = np.mat(np.ones(m))\n",
        "X= np.hstack((one.T,mbill.T))"
      ],
      "metadata": {
        "id": "V7YlCWmGeQSX"
      },
      "execution_count": null,
      "outputs": []
    },
    {
      "cell_type": "code",
      "source": [
        "ypred = localWeightRegression(X,mtip,2)\n",
        "SortIndex = X[:,1].argsort(0)\n",
        "xsort = X[SortIndex][:,0]"
      ],
      "metadata": {
        "id": "2lsG9rnceRbq"
      },
      "execution_count": null,
      "outputs": []
    },
    {
      "cell_type": "code",
      "source": [
        "fig = plt.figure()\n",
        "ax = fig.add_subplot(1,1,1)\n",
        "ax.scatter(bill,tip, color='blue')\n",
        "ax.plot(xsort[:,1],ypred[SortIndex], color = 'red', linewidth=1)\n",
        "plt.xlabel('Total bill')\n",
        "plt.ylabel('Tip')\n",
        "plt.show()"
      ],
      "metadata": {
        "colab": {
          "base_uri": "https://localhost:8080/",
          "height": 279
        },
        "id": "5pEWs7jHeVEp",
        "outputId": "aebaf5ea-8e55-465e-e0c4-bf096d886108"
      },
      "execution_count": null,
      "outputs": [
        {
          "output_type": "display_data",
          "data": {
            "text/plain": [
              "<Figure size 432x288 with 1 Axes>"
            ],
            "image/png": "[encoded data removed]"
          },
          "metadata": {
            "needs_background": "light"
          }
        }
      ]
    }
  ]
}